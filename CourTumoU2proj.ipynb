{
  "nbformat": 4,
  "nbformat_minor": 0,
  "metadata": {
    "colab": {
      "provenance": [],
      "include_colab_link": true
    },
    "kernelspec": {
      "name": "python3",
      "display_name": "Python 3"
    },
    "language_info": {
      "name": "python"
    }
  },
  "cells": [
    {
      "cell_type": "markdown",
      "metadata": {
        "id": "view-in-github",
        "colab_type": "text"
      },
      "source": [
        "<a href=\"https://colab.research.google.com/github/courtneytumolac/Data-Science/blob/main/CourTumoU2proj.ipynb\" target=\"_parent\"><img src=\"https://colab.research.google.com/assets/colab-badge.svg\" alt=\"Open In Colab\"/></a>"
      ]
    },
    {
      "cell_type": "markdown",
      "source": [
        "This project is about the Japan national football (soccer) team all time winning rate for all A internationals.\n",
        "* Data: https://www.11v11.com/teams/japan/tab/stats/#google_vignette\n",
        "\n"
      ],
      "metadata": {
        "id": "_t1B8nzKX2D2"
      }
    },
    {
      "cell_type": "code",
      "execution_count": 1,
      "metadata": {
        "colab": {
          "base_uri": "https://localhost:8080/"
        },
        "id": "0O0ksxw_T6Hx",
        "outputId": "98a734da-adff-41f1-c5a0-0ca78f8c2282"
      },
      "outputs": [
        {
          "output_type": "stream",
          "name": "stdout",
          "text": [
            "Collecting preliz\n",
            "  Downloading preliz-0.9.1-py3-none-any.whl.metadata (5.8 kB)\n",
            "Requirement already satisfied: arviz in /usr/local/lib/python3.10/dist-packages (from preliz) (0.18.0)\n",
            "Requirement already satisfied: matplotlib>=3.5 in /usr/local/lib/python3.10/dist-packages (from preliz) (3.7.1)\n",
            "Requirement already satisfied: numba>=0.59 in /usr/local/lib/python3.10/dist-packages (from preliz) (0.60.0)\n",
            "Requirement already satisfied: numpy>=1.22 in /usr/local/lib/python3.10/dist-packages (from preliz) (1.26.4)\n",
            "Collecting scipy<1.13,>=1.9.1 (from preliz)\n",
            "  Downloading scipy-1.12.0-cp310-cp310-manylinux_2_17_x86_64.manylinux2014_x86_64.whl.metadata (60 kB)\n",
            "\u001b[2K     \u001b[90m━━━━━━━━━━━━━━━━━━━━━━━━━━━━━━━━━━━━━━━━\u001b[0m \u001b[32m60.4/60.4 kB\u001b[0m \u001b[31m380.8 kB/s\u001b[0m eta \u001b[36m0:00:00\u001b[0m\n",
            "\u001b[?25hRequirement already satisfied: contourpy>=1.0.1 in /usr/local/lib/python3.10/dist-packages (from matplotlib>=3.5->preliz) (1.3.0)\n",
            "Requirement already satisfied: cycler>=0.10 in /usr/local/lib/python3.10/dist-packages (from matplotlib>=3.5->preliz) (0.12.1)\n",
            "Requirement already satisfied: fonttools>=4.22.0 in /usr/local/lib/python3.10/dist-packages (from matplotlib>=3.5->preliz) (4.53.1)\n",
            "Requirement already satisfied: kiwisolver>=1.0.1 in /usr/local/lib/python3.10/dist-packages (from matplotlib>=3.5->preliz) (1.4.7)\n",
            "Requirement already satisfied: packaging>=20.0 in /usr/local/lib/python3.10/dist-packages (from matplotlib>=3.5->preliz) (24.1)\n",
            "Requirement already satisfied: pillow>=6.2.0 in /usr/local/lib/python3.10/dist-packages (from matplotlib>=3.5->preliz) (9.4.0)\n",
            "Requirement already satisfied: pyparsing>=2.3.1 in /usr/local/lib/python3.10/dist-packages (from matplotlib>=3.5->preliz) (3.1.4)\n",
            "Requirement already satisfied: python-dateutil>=2.7 in /usr/local/lib/python3.10/dist-packages (from matplotlib>=3.5->preliz) (2.8.2)\n",
            "Requirement already satisfied: llvmlite<0.44,>=0.43.0dev0 in /usr/local/lib/python3.10/dist-packages (from numba>=0.59->preliz) (0.43.0)\n",
            "Requirement already satisfied: setuptools>=60.0.0 in /usr/local/lib/python3.10/dist-packages (from arviz->preliz) (71.0.4)\n",
            "Requirement already satisfied: pandas>=1.5.0 in /usr/local/lib/python3.10/dist-packages (from arviz->preliz) (2.1.4)\n",
            "Requirement already satisfied: dm-tree>=0.1.8 in /usr/local/lib/python3.10/dist-packages (from arviz->preliz) (0.1.8)\n",
            "Requirement already satisfied: xarray>=2022.6.0 in /usr/local/lib/python3.10/dist-packages (from arviz->preliz) (2024.9.0)\n",
            "Requirement already satisfied: h5netcdf>=1.0.2 in /usr/local/lib/python3.10/dist-packages (from arviz->preliz) (1.3.0)\n",
            "Requirement already satisfied: typing-extensions>=4.1.0 in /usr/local/lib/python3.10/dist-packages (from arviz->preliz) (4.12.2)\n",
            "Requirement already satisfied: xarray-einstats>=0.3 in /usr/local/lib/python3.10/dist-packages (from arviz->preliz) (0.7.0)\n",
            "Requirement already satisfied: h5py in /usr/local/lib/python3.10/dist-packages (from h5netcdf>=1.0.2->arviz->preliz) (3.11.0)\n",
            "Requirement already satisfied: pytz>=2020.1 in /usr/local/lib/python3.10/dist-packages (from pandas>=1.5.0->arviz->preliz) (2024.2)\n",
            "Requirement already satisfied: tzdata>=2022.1 in /usr/local/lib/python3.10/dist-packages (from pandas>=1.5.0->arviz->preliz) (2024.1)\n",
            "Requirement already satisfied: six>=1.5 in /usr/local/lib/python3.10/dist-packages (from python-dateutil>=2.7->matplotlib>=3.5->preliz) (1.16.0)\n",
            "Downloading preliz-0.9.1-py3-none-any.whl (505 kB)\n",
            "\u001b[2K   \u001b[90m━━━━━━━━━━━━━━━━━━━━━━━━━━━━━━━━━━━━━━━━\u001b[0m \u001b[32m505.6/505.6 kB\u001b[0m \u001b[31m6.8 MB/s\u001b[0m eta \u001b[36m0:00:00\u001b[0m\n",
            "\u001b[?25hDownloading scipy-1.12.0-cp310-cp310-manylinux_2_17_x86_64.manylinux2014_x86_64.whl (38.4 MB)\n",
            "\u001b[2K   \u001b[90m━━━━━━━━━━━━━━━━━━━━━━━━━━━━━━━━━━━━━━━━\u001b[0m \u001b[32m38.4/38.4 MB\u001b[0m \u001b[31m13.2 MB/s\u001b[0m eta \u001b[36m0:00:00\u001b[0m\n",
            "\u001b[?25hInstalling collected packages: scipy, preliz\n",
            "  Attempting uninstall: scipy\n",
            "    Found existing installation: scipy 1.13.1\n",
            "    Uninstalling scipy-1.13.1:\n",
            "      Successfully uninstalled scipy-1.13.1\n",
            "\u001b[31mERROR: pip's dependency resolver does not currently take into account all the packages that are installed. This behaviour is the source of the following dependency conflicts.\n",
            "osqp 0.6.7.post0 requires scipy!=1.12.0,>=0.13.2, but you have scipy 1.12.0 which is incompatible.\u001b[0m\u001b[31m\n",
            "\u001b[0mSuccessfully installed preliz-0.9.1 scipy-1.12.0\n"
          ]
        }
      ],
      "source": [
        "!pip install preliz\n",
        "\n",
        "\n",
        "#We'll also need to re-import those libraries\n",
        "\n",
        "#makes pretty flow charts of our models, known as kruschke diagrams\n",
        "#from pykrusch import krusch\n",
        "\n",
        "import preliz as pz\n",
        "\n",
        "\n",
        "#These libraries don't need to be reinstalled each time, but they will need to be\n",
        "#re-imported each time\n",
        "\n",
        "import numpy as np\n",
        "import arviz as az\n",
        "import pymc as pm"
      ]
    },
    {
      "cell_type": "markdown",
      "source": [
        "I already knew that Japan isn't super commendable/noticeable in terms of their soccer skills. They're at average or maybe slightly above or below, not super good or super bad. I'm pretty confident in this guess which is why the graph is tight."
      ],
      "metadata": {
        "id": "2oKC61hsitkv"
      }
    },
    {
      "cell_type": "code",
      "source": [
        "# Prior graph (60% win rate)\n",
        "\n",
        "pz.Beta(alpha=60,beta=40).plot_pdf()"
      ],
      "metadata": {
        "colab": {
          "base_uri": "https://localhost:8080/",
          "height": 447
        },
        "id": "HkSbJTMqVrZO",
        "outputId": "2a32b9f9-9f4c-479c-82a0-72b3dab94cd9"
      },
      "execution_count": 2,
      "outputs": [
        {
          "output_type": "execute_result",
          "data": {
            "text/plain": [
              "<Axes: >"
            ]
          },
          "metadata": {},
          "execution_count": 2
        },
        {
          "output_type": "display_data",
          "data": {
            "text/plain": [
              "<Figure size 640x480 with 1 Axes>"
            ],
            "image/png": "[encoded data removed]"
          },
          "metadata": {}
        }
      ]
    },
    {
      "cell_type": "markdown",
      "source": [
        "Different guesses based on this prior."
      ],
      "metadata": {
        "id": "j3x1fCmiZNWH"
      }
    },
    {
      "cell_type": "code",
      "source": [
        "#store the prior distribution for the Win Rate (WR) percentage\n",
        "WR_prior = pz.Beta(alpha=60,beta=40)\n",
        "\n",
        "#preliz does not have a function that returns the mode, so I will use a formula\n",
        "WR_prior_mode = (WR_prior.alpha - 1)/(WR_prior.alpha + WR_prior.beta - 2)\n",
        "\n",
        "#the mean mean first, then median, and finally mode\n",
        "WR_prior.mean(), WR_prior.median(), WR_prior_mode"
      ],
      "metadata": {
        "colab": {
          "base_uri": "https://localhost:8080/"
        },
        "id": "SSX_-WNvYv40",
        "outputId": "12a065c9-5f40-4b4d-ea5e-15e921d8104b"
      },
      "execution_count": 3,
      "outputs": [
        {
          "output_type": "execute_result",
          "data": {
            "text/plain": [
              "(0.6, 0.6006692560095892, 0.6020408163265306)"
            ]
          },
          "metadata": {},
          "execution_count": 3
        }
      ]
    },
    {
      "cell_type": "markdown",
      "source": [
        "Japan's team has played a total of 854 A international games. They've made 182 draws and 271 losses. This means they won 401 times."
      ],
      "metadata": {
        "id": "uwNb8JUNiWOL"
      }
    },
    {
      "cell_type": "code",
      "source": [
        "#loading pymc, the fancy library of functions that allows us to only focus on θ\n",
        "import pymc as pm"
      ],
      "metadata": {
        "id": "o3lgIHqnHC2N"
      },
      "execution_count": 4,
      "outputs": []
    },
    {
      "cell_type": "code",
      "source": [
        "#arviz is a companion data visualization library for pymc\n",
        "import arviz as az"
      ],
      "metadata": {
        "id": "Vi6x47sAHDYy"
      },
      "execution_count": 5,
      "outputs": []
    },
    {
      "cell_type": "markdown",
      "source": [
        "We can use that data to make a posterior of their all time win rate..."
      ],
      "metadata": {
        "id": "JY7h5pUGIicM"
      }
    },
    {
      "cell_type": "code",
      "source": [
        "#Japan's team all time game stats, their wins then their draws + losses\n",
        "WR_data_alltime = np.repeat([1,0], repeats = [401,453])\n",
        "\n",
        "\n",
        "with pm.Model() as japan_WR_alltime_model:\n",
        "  #same prior from before\n",
        "  θ = pm.Beta('θ' , alpha = 60. , beta = 40.)\n",
        "\n",
        "  #same likelihood, with our stand in for the binomial distribution\n",
        "  #but with the updated data\n",
        "  y = pm.Bernoulli('y', p = θ, observed = WR_data_alltime)\n",
        "\n",
        "  #sample from the posterior, 2000 for a more prcise picture later\n",
        "  idata_WR_alltime = pm.sample(2000)\n",
        "\n",
        "#vizualize the 2000 samples from the pymc model of the posterior\n",
        "az.plot_posterior(idata_WR_alltime)"
      ],
      "metadata": {
        "colab": {
          "base_uri": "https://localhost:8080/",
          "height": 515
        },
        "id": "1-IrgtCbgpO8",
        "outputId": "3d357a7e-df48-4ee0-cd00-0af5a1ab6143"
      },
      "execution_count": 7,
      "outputs": [
        {
          "output_type": "display_data",
          "data": {
            "text/plain": [
              "<IPython.core.display.HTML object>"
            ],
            "text/html": [
              "\n",
              "<style>\n",
              "    /* Turns off some styling */\n",
              "    progress {\n",
              "        /* gets rid of default border in Firefox and Opera. */\n",
              "        border: none;\n",
              "        /* Needs to be in here for Safari polyfill so background images work as expected. */\n",
              "        background-size: auto;\n",
              "    }\n",
              "    progress:not([value]), progress:not([value])::-webkit-progress-bar {\n",
              "        background: repeating-linear-gradient(45deg, #7e7e7e, #7e7e7e 10px, #5c5c5c 10px, #5c5c5c 20px);\n",
              "    }\n",
              "    .progress-bar-interrupted, .progress-bar-interrupted::-webkit-progress-bar {\n",
              "        background: #F44336;\n",
              "    }\n",
              "</style>\n"
            ]
          },
          "metadata": {}
        },
        {
          "output_type": "display_data",
          "data": {
            "text/plain": [
              "<IPython.core.display.HTML object>"
            ],
            "text/html": [
              "\n",
              "    <div>\n",
              "      <progress value='3000' class='' max='3000' style='width:300px; height:20px; vertical-align: middle;'></progress>\n",
              "      100.00% [3000/3000 00:01&lt;00:00 Sampling chain 0, 0 divergences]\n",
              "    </div>\n",
              "    "
            ]
          },
          "metadata": {}
        },
        {
          "output_type": "display_data",
          "data": {
            "text/plain": [
              "<IPython.core.display.HTML object>"
            ],
            "text/html": [
              "\n",
              "<style>\n",
              "    /* Turns off some styling */\n",
              "    progress {\n",
              "        /* gets rid of default border in Firefox and Opera. */\n",
              "        border: none;\n",
              "        /* Needs to be in here for Safari polyfill so background images work as expected. */\n",
              "        background-size: auto;\n",
              "    }\n",
              "    progress:not([value]), progress:not([value])::-webkit-progress-bar {\n",
              "        background: repeating-linear-gradient(45deg, #7e7e7e, #7e7e7e 10px, #5c5c5c 10px, #5c5c5c 20px);\n",
              "    }\n",
              "    .progress-bar-interrupted, .progress-bar-interrupted::-webkit-progress-bar {\n",
              "        background: #F44336;\n",
              "    }\n",
              "</style>\n"
            ]
          },
          "metadata": {}
        },
        {
          "output_type": "display_data",
          "data": {
            "text/plain": [
              "<IPython.core.display.HTML object>"
            ],
            "text/html": [
              "\n",
              "    <div>\n",
              "      <progress value='3000' class='' max='3000' style='width:300px; height:20px; vertical-align: middle;'></progress>\n",
              "      100.00% [3000/3000 00:03&lt;00:00 Sampling chain 1, 0 divergences]\n",
              "    </div>\n",
              "    "
            ]
          },
          "metadata": {}
        },
        {
          "output_type": "execute_result",
          "data": {
            "text/plain": [
              "<Axes: title={'center': 'θ'}>"
            ]
          },
          "metadata": {},
          "execution_count": 7
        },
        {
          "output_type": "display_data",
          "data": {
            "text/plain": [
              "<Figure size 640x480 with 1 Axes>"
            ],
            "image/png": "[encoded data removed]"
          },
          "metadata": {}
        }
      ]
    },
    {
      "cell_type": "markdown",
      "source": [
        "I'm not going to lie, I'm really disappointed in Japan right now. I knew they weren't good, but I didn't know they were this bad. A mean of 0.48 is kind of insane. That being said, my prediction was pretty spot on, although I'm genuinely surprised by the findings."
      ],
      "metadata": {
        "id": "pITwRvDoIHh0"
      }
    }
  ]
}